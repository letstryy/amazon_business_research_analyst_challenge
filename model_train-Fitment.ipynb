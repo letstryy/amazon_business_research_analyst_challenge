{
 "cells": [
  {
   "cell_type": "code",
   "execution_count": 1,
   "metadata": {},
   "outputs": [],
   "source": [
    "import numpy as np\n",
    "import pandas as pd\n",
    "import category_encoders as ce\n",
    "from sklearn.model_selection import RandomizedSearchCV\n",
    "from sklearn.model_selection import train_test_split\n",
    "from sklearn.model_selection import cross_val_score\n",
    "from sklearn.model_selection import cross_validate\n",
    "from sklearn.model_selection import KFold\n",
    "import joblib \n",
    "from sklearn.preprocessing import StandardScaler\n",
    "from sklearn.pipeline import Pipeline\n",
    "from scipy.stats import uniform as sp_randFloat\n",
    "from scipy.stats import randint as sp_randInt\n",
    "from sklearn.metrics import classification_report\n",
    "from sklearn.feature_selection import RFE\n",
    "from sklearn.model_selection import GridSearchCV\n",
    "from sklearn.ensemble import RandomForestClassifier\n",
    "from sklearn.linear_model import LinearRegression\n",
    "from sklearn.linear_model import Lasso\n",
    "from sklearn.linear_model import ElasticNet\n",
    "from sklearn.tree import DecisionTreeRegressor\n",
    "from sklearn.neighbors import KNeighborsRegressor\n",
    "from sklearn.ensemble import GradientBoostingRegressor\n",
    "import xgboost as xgb\n",
    "import lightgbm as lgb\n",
    "from sklearn.ensemble import StackingRegressor\n",
    "import statsmodels.api as sm\n",
    "from scipy import stats\n",
    "import shap\n",
    "from sklearn import preprocessing\n",
    "from sklearn.mixture import GaussianMixture\n",
    "from statsmodels.stats.outliers_influence import variance_inflation_factor\n",
    "from sklearn.metrics import r2_score\n",
    "import matplotlib.pyplot as plt\n",
    "import seaborn as sns\n",
    "import warnings\n",
    "warnings.filterwarnings(\"ignore\")"
   ]
  },
  {
   "cell_type": "code",
   "execution_count": 2,
   "metadata": {},
   "outputs": [],
   "source": [
    "from IPython.display import display_html\n",
    "def display_side_by_side(*args):\n",
    "    html_str=''\n",
    "    for df in args:\n",
    "        html_str+=df.to_html()\n",
    "    display_html(html_str.replace('table','table style=\"display:inline\"'),raw=True)"
   ]
  },
  {
   "cell_type": "code",
   "execution_count": 3,
   "metadata": {},
   "outputs": [],
   "source": [
    "## load data\n",
    "trainfinal = pd.read_csv('train_data.csv')\n",
    "testfinal = pd.read_csv('test.csv')\n",
    "\n",
    "## labelencoding the target\n",
    "label_encoder = preprocessing.LabelEncoder()\n",
    "trainfinal['Factor'] = trainfinal['BiasInfluentialFactor']\n",
    "trainfinal['BiasInfluentialFactor']= label_encoder.fit_transform(trainfinal['BiasInfluentialFactor'])\n",
    "dict_bf = trainfinal[['BiasInfluentialFactor','Factor']].drop_duplicates()\n",
    "dict_bf = dict(zip(dict_bf.BiasInfluentialFactor, dict_bf.Factor))\n",
    "del trainfinal['Factor']"
   ]
  },
  {
   "cell_type": "code",
   "execution_count": 4,
   "metadata": {},
   "outputs": [
    {
     "data": {
      "text/html": [
       "<div>\n",
       "<style scoped>\n",
       "    .dataframe tbody tr th:only-of-type {\n",
       "        vertical-align: middle;\n",
       "    }\n",
       "\n",
       "    .dataframe tbody tr th {\n",
       "        vertical-align: top;\n",
       "    }\n",
       "\n",
       "    .dataframe thead th {\n",
       "        text-align: right;\n",
       "    }\n",
       "</style>\n",
       "<table border=\"1\" class=\"dataframe\">\n",
       "  <thead>\n",
       "    <tr style=\"text-align: right;\">\n",
       "      <th></th>\n",
       "      <th>EmpID</th>\n",
       "      <th>LanguageOfCommunication</th>\n",
       "      <th>Gender</th>\n",
       "      <th>JobProfileIDApplyingFor</th>\n",
       "      <th>BiasInfluentialFactor</th>\n",
       "      <th>HighestDegree</th>\n",
       "      <th>DegreeBranch</th>\n",
       "      <th>GraduatingInstitute</th>\n",
       "      <th>LatestDegreeCGPA</th>\n",
       "      <th>YearsOfExperince</th>\n",
       "      <th>CurrentCTC</th>\n",
       "      <th>MartialStatus</th>\n",
       "      <th>EmpScore</th>\n",
       "      <th>CurrentDesignation</th>\n",
       "      <th>CurrentCompanyType</th>\n",
       "      <th>DepartmentInCompany</th>\n",
       "      <th>TotalLeavesTaken</th>\n",
       "      <th>ExpectedRaise%</th>\n",
       "      <th>FitmentPercent</th>\n",
       "    </tr>\n",
       "  </thead>\n",
       "  <tbody>\n",
       "    <tr>\n",
       "      <th>0</th>\n",
       "      <td>11041</td>\n",
       "      <td>English</td>\n",
       "      <td>Male</td>\n",
       "      <td>JR85289</td>\n",
       "      <td>9</td>\n",
       "      <td>B.Tech</td>\n",
       "      <td>Electrical</td>\n",
       "      <td>Tier 1</td>\n",
       "      <td>7</td>\n",
       "      <td>12</td>\n",
       "      <td>21</td>\n",
       "      <td>Married</td>\n",
       "      <td>5</td>\n",
       "      <td>SSE</td>\n",
       "      <td>Enterprise</td>\n",
       "      <td>Design</td>\n",
       "      <td>20</td>\n",
       "      <td>3.218876</td>\n",
       "      <td>0.9369</td>\n",
       "    </tr>\n",
       "    <tr>\n",
       "      <th>1</th>\n",
       "      <td>15079</td>\n",
       "      <td>English</td>\n",
       "      <td>Male</td>\n",
       "      <td>JR87525</td>\n",
       "      <td>8</td>\n",
       "      <td>B.Tech</td>\n",
       "      <td>Artificial Intelligence</td>\n",
       "      <td>Tier 3</td>\n",
       "      <td>7</td>\n",
       "      <td>3</td>\n",
       "      <td>15</td>\n",
       "      <td>Married</td>\n",
       "      <td>5</td>\n",
       "      <td>BA</td>\n",
       "      <td>MidSized</td>\n",
       "      <td>Engineering</td>\n",
       "      <td>6</td>\n",
       "      <td>3.332205</td>\n",
       "      <td>0.6709</td>\n",
       "    </tr>\n",
       "    <tr>\n",
       "      <th>2</th>\n",
       "      <td>18638</td>\n",
       "      <td>English</td>\n",
       "      <td>Female</td>\n",
       "      <td>JR87525</td>\n",
       "      <td>4</td>\n",
       "      <td>PhD</td>\n",
       "      <td>Computer Science</td>\n",
       "      <td>Tier 1</td>\n",
       "      <td>6</td>\n",
       "      <td>6</td>\n",
       "      <td>15</td>\n",
       "      <td>Single</td>\n",
       "      <td>5</td>\n",
       "      <td>SDE</td>\n",
       "      <td>MidSized</td>\n",
       "      <td>Engineering</td>\n",
       "      <td>19</td>\n",
       "      <td>4.110874</td>\n",
       "      <td>0.9126</td>\n",
       "    </tr>\n",
       "    <tr>\n",
       "      <th>3</th>\n",
       "      <td>3941</td>\n",
       "      <td>English</td>\n",
       "      <td>Female</td>\n",
       "      <td>JR87525</td>\n",
       "      <td>4</td>\n",
       "      <td>BCA</td>\n",
       "      <td>Information Technology</td>\n",
       "      <td>Tier 2</td>\n",
       "      <td>5</td>\n",
       "      <td>6</td>\n",
       "      <td>16</td>\n",
       "      <td>Married</td>\n",
       "      <td>5</td>\n",
       "      <td>SDE</td>\n",
       "      <td>Startup</td>\n",
       "      <td>Product</td>\n",
       "      <td>16</td>\n",
       "      <td>3.931826</td>\n",
       "      <td>0.7229</td>\n",
       "    </tr>\n",
       "    <tr>\n",
       "      <th>4</th>\n",
       "      <td>5936</td>\n",
       "      <td>English</td>\n",
       "      <td>Male</td>\n",
       "      <td>JR70175</td>\n",
       "      <td>1</td>\n",
       "      <td>Dual M.Tech</td>\n",
       "      <td>Computer Science</td>\n",
       "      <td>Tier 3</td>\n",
       "      <td>8</td>\n",
       "      <td>2</td>\n",
       "      <td>24</td>\n",
       "      <td>Married</td>\n",
       "      <td>5</td>\n",
       "      <td>SDE</td>\n",
       "      <td>Enterprise</td>\n",
       "      <td>Engineering</td>\n",
       "      <td>10</td>\n",
       "      <td>3.526361</td>\n",
       "      <td>0.8634</td>\n",
       "    </tr>\n",
       "  </tbody>\n",
       "</table>\n",
       "</div>"
      ],
      "text/plain": [
       "   EmpID LanguageOfCommunication  Gender JobProfileIDApplyingFor  \\\n",
       "0  11041                 English    Male                 JR85289   \n",
       "1  15079                 English    Male                 JR87525   \n",
       "2  18638                 English  Female                 JR87525   \n",
       "3   3941                 English  Female                 JR87525   \n",
       "4   5936                 English    Male                 JR70175   \n",
       "\n",
       "   BiasInfluentialFactor HighestDegree             DegreeBranch  \\\n",
       "0                      9        B.Tech               Electrical   \n",
       "1                      8        B.Tech  Artificial Intelligence   \n",
       "2                      4           PhD         Computer Science   \n",
       "3                      4           BCA   Information Technology   \n",
       "4                      1   Dual M.Tech         Computer Science   \n",
       "\n",
       "  GraduatingInstitute  LatestDegreeCGPA  YearsOfExperince  CurrentCTC  \\\n",
       "0              Tier 1                 7                12          21   \n",
       "1              Tier 3                 7                 3          15   \n",
       "2              Tier 1                 6                 6          15   \n",
       "3              Tier 2                 5                 6          16   \n",
       "4              Tier 3                 8                 2          24   \n",
       "\n",
       "  MartialStatus  EmpScore CurrentDesignation CurrentCompanyType  \\\n",
       "0       Married         5                SSE         Enterprise   \n",
       "1       Married         5                 BA           MidSized   \n",
       "2        Single         5                SDE           MidSized   \n",
       "3       Married         5                SDE            Startup   \n",
       "4       Married         5                SDE         Enterprise   \n",
       "\n",
       "  DepartmentInCompany  TotalLeavesTaken  ExpectedRaise%  FitmentPercent  \n",
       "0              Design                20        3.218876          0.9369  \n",
       "1         Engineering                 6        3.332205          0.6709  \n",
       "2         Engineering                19        4.110874          0.9126  \n",
       "3             Product                16        3.931826          0.7229  \n",
       "4         Engineering                10        3.526361          0.8634  "
      ]
     },
     "execution_count": 4,
     "metadata": {},
     "output_type": "execute_result"
    }
   ],
   "source": [
    "trainfinal.head()"
   ]
  },
  {
   "cell_type": "code",
   "execution_count": 5,
   "metadata": {},
   "outputs": [
    {
     "data": {
      "text/plain": [
       "(13645, 19)"
      ]
     },
     "execution_count": 5,
     "metadata": {},
     "output_type": "execute_result"
    }
   ],
   "source": [
    "trainfinal.shape"
   ]
  },
  {
   "cell_type": "markdown",
   "metadata": {},
   "source": [
    "### Categorical Encoding"
   ]
  },
  {
   "cell_type": "code",
   "execution_count": 6,
   "metadata": {},
   "outputs": [
    {
     "data": {
      "text/plain": [
       "Index(['LanguageOfCommunication', 'Gender', 'JobProfileIDApplyingFor',\n",
       "       'HighestDegree', 'DegreeBranch', 'GraduatingInstitute', 'MartialStatus',\n",
       "       'CurrentDesignation', 'CurrentCompanyType', 'DepartmentInCompany'],\n",
       "      dtype='object')"
      ]
     },
     "execution_count": 6,
     "metadata": {},
     "output_type": "execute_result"
    }
   ],
   "source": [
    "cat_data = trainfinal.select_dtypes(exclude=[np.number])\n",
    "cat_data.columns"
   ]
  },
  {
   "cell_type": "code",
   "execution_count": 7,
   "metadata": {},
   "outputs": [],
   "source": [
    "categorical = ['LanguageOfCommunication', 'Gender', 'JobProfileIDApplyingFor', \n",
    "               'HighestDegree', 'DegreeBranch', 'GraduatingInstitute', 'MartialStatus', \n",
    "               'CurrentDesignation', 'CurrentCompanyType']"
   ]
  },
  {
   "cell_type": "code",
   "execution_count": 8,
   "metadata": {},
   "outputs": [],
   "source": [
    "## create object of Binaryencoding\n",
    "encoder = ce.BinaryEncoder(categorical)\n",
    "enc = encoder.fit(trainfinal[categorical].values)\n",
    "dfbin = enc.transform(trainfinal[categorical].values)\n",
    "trainfinal = pd.concat([trainfinal, dfbin], axis = 1)\n",
    "dfbin.columns = [enc.verbose[int(i.split('_')[0])]+\"_\"+i.split('_')[1] for i in dfbin.columns]"
   ]
  },
  {
   "cell_type": "code",
   "execution_count": 9,
   "metadata": {},
   "outputs": [
    {
     "data": {
      "text/plain": [
       "Index(['EmpID', 'LanguageOfCommunication', 'Gender', 'JobProfileIDApplyingFor',\n",
       "       'BiasInfluentialFactor', 'HighestDegree', 'DegreeBranch',\n",
       "       'GraduatingInstitute', 'LatestDegreeCGPA', 'YearsOfExperince',\n",
       "       'CurrentCTC', 'MartialStatus', 'EmpScore', 'CurrentDesignation',\n",
       "       'CurrentCompanyType', 'DepartmentInCompany', 'TotalLeavesTaken',\n",
       "       'ExpectedRaise%', 'FitmentPercent', '0_0', '0_1', '0_2', '1_0', '1_1',\n",
       "       '1_2', '2_0', '2_1', '2_2', '2_3', '2_4', '3_0', '3_1', '3_2', '3_3',\n",
       "       '4_0', '4_1', '4_2', '4_3', '5_0', '5_1', '5_2', '6_0', '6_1', '7_0',\n",
       "       '7_1', '7_2', '7_3', '8_0', '8_1', '8_2'],\n",
       "      dtype='object')"
      ]
     },
     "execution_count": 9,
     "metadata": {},
     "output_type": "execute_result"
    }
   ],
   "source": [
    "trainfinal.columns"
   ]
  },
  {
   "cell_type": "code",
   "execution_count": 10,
   "metadata": {},
   "outputs": [
    {
     "name": "stdout",
     "output_type": "stream",
     "text": [
      "             feature        VIF\n",
      "0   YearsOfExperince   1.001494\n",
      "1         CurrentCTC   1.002105\n",
      "2           EmpScore   1.000787\n",
      "3                0_0        NaN\n",
      "4                0_1   1.165210\n",
      "5                0_2   1.164840\n",
      "6                1_0        NaN\n",
      "7                1_1   3.820564\n",
      "8                1_2   3.821592\n",
      "9                2_0        NaN\n",
      "10               2_1   1.230971\n",
      "11               2_2   1.080252\n",
      "12               2_3   1.786356\n",
      "13               2_4   1.730417\n",
      "14               3_0   1.097349\n",
      "15               3_1   1.348082\n",
      "16               3_2   1.176953\n",
      "17               3_3   1.561526\n",
      "18               4_0        NaN\n",
      "19               4_1   2.695695\n",
      "20               4_2   2.236262\n",
      "21               4_3   1.330798\n",
      "22               5_0        NaN\n",
      "23               5_1   1.161733\n",
      "24               5_2   1.160803\n",
      "25               6_0  30.965298\n",
      "26               6_1  77.572921\n",
      "27               7_0   1.089235\n",
      "28               7_1   1.625150\n",
      "29               7_2   1.412091\n",
      "30               7_3   1.239024\n",
      "31               8_0        NaN\n",
      "32               8_1   1.148125\n",
      "33               8_2   1.148199\n"
     ]
    }
   ],
   "source": [
    "## VIF dataframe\n",
    "vif_data = pd.DataFrame()\n",
    "X = trainfinal[['YearsOfExperince', 'CurrentCTC', 'EmpScore', \n",
    "                '0_0', '0_1', '0_2', '1_0', '1_1', '1_2', '2_0',\n",
    "                '2_1', '2_2', '2_3', '2_4', '3_0', '3_1', '3_2',\n",
    "                '3_3', '4_0', '4_1', '4_2', '4_3', '5_0', '5_1',\n",
    "                '5_2', '6_0', '6_1', '7_0', '7_1', '7_2', '7_3', \n",
    "                '8_0', '8_1', '8_2']].copy()\n",
    "\n",
    "vif_data[\"feature\"] = X.columns\n",
    "  \n",
    "## calculating VIF for each feature\n",
    "vif_data[\"VIF\"] = [variance_inflation_factor(X.values, i)\n",
    "                          for i in range(len(X.columns))]\n",
    "  \n",
    "print(vif_data)"
   ]
  },
  {
   "cell_type": "code",
   "execution_count": 11,
   "metadata": {},
   "outputs": [],
   "source": [
    "numeric_features = ['YearsOfExperince', 'CurrentCTC', 'EmpScore', 'LatestDegreeCGPA']"
   ]
  },
  {
   "cell_type": "code",
   "execution_count": 12,
   "metadata": {},
   "outputs": [],
   "source": [
    "## standardize the numeric features. \n",
    "scaler = StandardScaler()\n",
    "scaler.fit(trainfinal[numeric_features])\n",
    "scaled = scaler.transform(trainfinal[numeric_features])\n",
    "\n",
    "for i, col in enumerate(numeric_features):\n",
    "       trainfinal[col] = scaled[:,i]"
   ]
  },
  {
   "cell_type": "markdown",
   "metadata": {},
   "source": [
    "### Train and Test Set split"
   ]
  },
  {
   "cell_type": "code",
   "execution_count": 13,
   "metadata": {},
   "outputs": [
    {
     "data": {
      "text/plain": [
       "((10916, 27), (2729, 27))"
      ]
     },
     "execution_count": 13,
     "metadata": {},
     "output_type": "execute_result"
    }
   ],
   "source": [
    "X = trainfinal.drop(['EmpID', 'BiasInfluentialFactor', 'FitmentPercent', 'LanguageOfCommunication', 'Gender',\n",
    "                     'JobProfileIDApplyingFor', 'DegreeBranch', 'MartialStatus', 'TotalLeavesTaken','GraduatingInstitute',\n",
    "                     'CurrentDesignation', 'CurrentCompanyType', 'LatestDegreeCGPA', 'ExpectedRaise%', 'HighestDegree', \n",
    "                     'DepartmentInCompany', '0_0', '1_0', '2_0', '4_0', '5_0', '6_1', '8_0'], axis=1).copy()\n",
    "\n",
    "Y = trainfinal['FitmentPercent'] \n",
    "\n",
    "X1 = trainfinal.drop(['EmpID', 'BiasInfluentialFactor', 'LanguageOfCommunication', 'Gender', 'JobProfileIDApplyingFor', \n",
    "                      'DegreeBranch', 'MartialStatus', 'TotalLeavesTaken', 'GraduatingInstitute', 'CurrentDesignation',\n",
    "                      'CurrentCompanyType', 'ExpectedRaise%', 'DepartmentInCompany', 'HighestDegree',\n",
    "                      '0_0', '1_0', '2_0', '4_0', '5_0', '6_1', '8_0'], axis=1).copy()\n",
    "\n",
    "Y1 = trainfinal['BiasInfluentialFactor'] \n",
    "\n",
    "train, test, ytrain, ytest = train_test_split(X, Y, test_size = 0.2, random_state = 42)\n",
    "train.shape, test.shape"
   ]
  },
  {
   "cell_type": "code",
   "execution_count": 14,
   "metadata": {},
   "outputs": [
    {
     "data": {
      "text/plain": [
       "Index(['LatestDegreeCGPA', 'YearsOfExperince', 'CurrentCTC', 'EmpScore',\n",
       "       'FitmentPercent', '0_1', '0_2', '1_1', '1_2', '2_1', '2_2', '2_3',\n",
       "       '2_4', '3_0', '3_1', '3_2', '3_3', '4_1', '4_2', '4_3', '5_1', '5_2',\n",
       "       '6_0', '7_0', '7_1', '7_2', '7_3', '8_1', '8_2'],\n",
       "      dtype='object')"
      ]
     },
     "execution_count": 14,
     "metadata": {},
     "output_type": "execute_result"
    }
   ],
   "source": [
    "X1.columns"
   ]
  },
  {
   "cell_type": "code",
   "execution_count": 15,
   "metadata": {},
   "outputs": [
    {
     "name": "stdout",
     "output_type": "stream",
     "text": [
      "Optimum number of features: 23\n",
      "Score with 23 features: 0.085995\n"
     ]
    }
   ],
   "source": [
    "## no of features\n",
    "nof_list = np.arange(1,30)            \n",
    "low_score = 1\n",
    "\n",
    "## Variable to store the optimum features\n",
    "nof = 0           \n",
    "score_list =[]\n",
    "for n in range(len(nof_list)):\n",
    "    model = lgb.LGBMRegressor(silent=False)\n",
    "    rfe = RFE(model,nof_list[n])\n",
    "    X_train_rfe = rfe.fit_transform(train,ytrain)\n",
    "    X_test_rfe = rfe.transform(test)\n",
    "    model.fit(X_train_rfe,ytrain)\n",
    "    pred = model.predict(X_test_rfe)\n",
    "    score = ((pred - ytest) ** 2).mean() ** .5\n",
    "    score_list.append(score)\n",
    "    if(score < low_score):\n",
    "        low_score = score\n",
    "        nof = nof_list[n]\n",
    "        \n",
    "print(\"Optimum number of features: %d\" %nof)\n",
    "print(\"Score with %d features: %f\" % (nof, low_score))"
   ]
  },
  {
   "cell_type": "code",
   "execution_count": 16,
   "metadata": {},
   "outputs": [
    {
     "name": "stdout",
     "output_type": "stream",
     "text": [
      "Index(['YearsOfExperince', 'CurrentCTC', 'EmpScore', '0_1', '1_1', '1_2',\n",
      "       '2_2', '2_3', '2_4', '3_1', '3_2', '3_3', '4_1', '4_2', '4_3', '5_1',\n",
      "       '5_2', '6_0', '7_1', '7_2', '7_3', '8_1', '8_2'],\n",
      "      dtype='object')\n"
     ]
    }
   ],
   "source": [
    "## Transforming data using RFE\n",
    "cols = train.columns\n",
    "rfe = RFE(model, nof)\n",
    "\n",
    "## Fitting the data to model\n",
    "X_rfe = rfe.fit_transform(train, ytrain) \n",
    "model.fit(X_rfe, ytrain)              \n",
    "temp = pd.Series(rfe.support_,index = cols)\n",
    "selected_features_rfe = temp[temp==True].index\n",
    "print(selected_features_rfe)"
   ]
  },
  {
   "cell_type": "code",
   "execution_count": 17,
   "metadata": {},
   "outputs": [],
   "source": [
    "selected_features_rfe = ['YearsOfExperince', 'CurrentCTC', 'EmpScore',\n",
    "                         '0_1', '0_2', '1_1', '1_2', '2_1', '2_2', '2_3',\n",
    "                         '2_4','3_0', '3_1', '3_2', '3_3', '4_1', '4_2',\n",
    "                         '4_3', '5_1', '5_2', '6_0', '7_0', '7_1', '7_2',\n",
    "                         '7_3', '8_1', '8_2']\n",
    "\n",
    "train = train[selected_features_rfe]\n",
    "test = test[selected_features_rfe]"
   ]
  },
  {
   "cell_type": "markdown",
   "metadata": {},
   "source": [
    "### Model Training and Evaluation"
   ]
  },
  {
   "cell_type": "code",
   "execution_count": 18,
   "metadata": {},
   "outputs": [
    {
     "name": "stdout",
     "output_type": "stream",
     "text": [
      "LR: -0.012869 (0.000715)\n",
      "LASSO: -0.020506 (0.001214)\n",
      "EN: -0.020506 (0.001214)\n",
      "KNN: -0.014312 (0.000698)\n",
      "CART: -0.014527 (0.000537)\n",
      "GBM: -0.007605 (0.000344)\n",
      "[18:41:28] WARNING: C:/Jenkins/workspace/xgboost-win64_release_0.90/src/objective/regression_obj.cu:152: reg:linear is now deprecated in favor of reg:squarederror.\n",
      "[18:41:30] WARNING: C:/Jenkins/workspace/xgboost-win64_release_0.90/src/objective/regression_obj.cu:152: reg:linear is now deprecated in favor of reg:squarederror.\n",
      "[18:41:32] WARNING: C:/Jenkins/workspace/xgboost-win64_release_0.90/src/objective/regression_obj.cu:152: reg:linear is now deprecated in favor of reg:squarederror.\n",
      "[18:41:35] WARNING: C:/Jenkins/workspace/xgboost-win64_release_0.90/src/objective/regression_obj.cu:152: reg:linear is now deprecated in favor of reg:squarederror.\n",
      "[18:41:37] WARNING: C:/Jenkins/workspace/xgboost-win64_release_0.90/src/objective/regression_obj.cu:152: reg:linear is now deprecated in favor of reg:squarederror.\n",
      "[18:41:39] WARNING: C:/Jenkins/workspace/xgboost-win64_release_0.90/src/objective/regression_obj.cu:152: reg:linear is now deprecated in favor of reg:squarederror.\n",
      "[18:41:41] WARNING: C:/Jenkins/workspace/xgboost-win64_release_0.90/src/objective/regression_obj.cu:152: reg:linear is now deprecated in favor of reg:squarederror.\n",
      "[18:41:42] WARNING: C:/Jenkins/workspace/xgboost-win64_release_0.90/src/objective/regression_obj.cu:152: reg:linear is now deprecated in favor of reg:squarederror.\n",
      "[18:41:44] WARNING: C:/Jenkins/workspace/xgboost-win64_release_0.90/src/objective/regression_obj.cu:152: reg:linear is now deprecated in favor of reg:squarederror.\n",
      "[18:41:47] WARNING: C:/Jenkins/workspace/xgboost-win64_release_0.90/src/objective/regression_obj.cu:152: reg:linear is now deprecated in favor of reg:squarederror.\n",
      "XGB: -0.007596 (0.000341)\n",
      "LGB: -0.007363 (0.000288)\n"
     ]
    }
   ],
   "source": [
    "pipelines = []\n",
    "pipelines.append(('LR', Pipeline([('LR',LinearRegression())])))\n",
    "pipelines.append(('LASSO', Pipeline([('LASSO', Lasso())])))\n",
    "pipelines.append(('EN', Pipeline([('EN', ElasticNet())])))\n",
    "pipelines.append(('KNN', Pipeline([('KNN', KNeighborsRegressor())])))\n",
    "pipelines.append(('CART', Pipeline([('CART', DecisionTreeRegressor())])))\n",
    "pipelines.append(('GBM', Pipeline([('GBM', GradientBoostingRegressor())])))\n",
    "pipelines.append(('XGB', Pipeline([('XGB', xgb.XGBRegressor())])))\n",
    "pipelines.append(('LGB', Pipeline([('LGB', lgb.LGBMRegressor())])))\n",
    "\n",
    "results = []\n",
    "names = []\n",
    "for name, model in pipelines:\n",
    "    kfold = KFold(n_splits = 10)\n",
    "    cv_results = cross_val_score(model, train, ytrain, cv = kfold, scoring='neg_mean_squared_error')\n",
    "    results.append(cv_results)\n",
    "    names.append(name)\n",
    "    msg = \"%s: %f (%f)\" % (name, cv_results.mean(), cv_results.std())\n",
    "    print(msg)"
   ]
  },
  {
   "cell_type": "code",
   "execution_count": 19,
   "metadata": {},
   "outputs": [
    {
     "data": {
      "image/png": "[encoded data removed]",
      "text/plain": [
       "<Figure size 432x288 with 1 Axes>"
      ]
     },
     "metadata": {
      "needs_background": "light"
     },
     "output_type": "display_data"
    }
   ],
   "source": [
    "plt.boxplot(results, labels=names, showmeans=True)\n",
    "plt.show()"
   ]
  },
  {
   "cell_type": "code",
   "execution_count": 20,
   "metadata": {},
   "outputs": [],
   "source": [
    "param_dist = {\"max_depth\": [15,20,25,30,40,50,75],\n",
    "              \"learning_rate\" : [0.01,0.03,0.05,0.1],\n",
    "              \"num_leaves\": [100,200,300,500,700,900,1200],\n",
    "              \"n_estimators\": [400,500,600,800,900,1000],\n",
    "              \"max_bin\": [80,90,100,120,150,180,200]\n",
    "             }\n",
    "\n",
    "#lg = lgb.LGBMRegressor(silent=False)\n",
    "#grid_search = GridSearchCV(lg, n_jobs=-1, param_grid=param_dist, cv=3, scoring=\"neg_mean_squared_error\", verbose=5)\n",
    "#grid_search.fit(train, ytrain)\n",
    "#grid_search.best_estimator_"
   ]
  },
  {
   "cell_type": "code",
   "execution_count": 21,
   "metadata": {},
   "outputs": [],
   "source": [
    "def get_feature_importances(data, shuffle, seed=None):\n",
    "\n",
    "    train_features = [f for f in data]\n",
    "    y = ytrain\n",
    "    if shuffle:\n",
    "        y = ytrain.copy().sample(frac=1.0)\n",
    "\n",
    "    dtrain = lgb.Dataset(data[train_features], y, free_raw_data=False, silent=True)\n",
    "    lgb_params = {\n",
    "    'boosting_type': 'gbdt',\n",
    "    'objective': 'regression',\n",
    "    'metric': 'rmse',\n",
    "    'max_depth': 20, \n",
    "    'learning_rate': 0.01,\n",
    "    'num_leaves':200,    \n",
    "    'verbose': 0,\n",
    "    'n_estimators': 600,\n",
    "    'max_bin': 80\n",
    "    }\n",
    "    \n",
    "    model = lgb.train(params=lgb_params, train_set=dtrain, num_boost_round=200)\n",
    "\n",
    "    imp_df = pd.DataFrame()\n",
    "    imp_df[\"feature\"] = list(train_features)\n",
    "    imp_df[\"importance_gain\"] = model.feature_importance(importance_type='gain')\n",
    "    imp_df[\"importance_split\"] = model.feature_importance(importance_type='split')\n",
    "    \n",
    "    return imp_df, model"
   ]
  },
  {
   "cell_type": "code",
   "execution_count": 22,
   "metadata": {},
   "outputs": [],
   "source": [
    "actual_imp_df, model = get_feature_importances(data=train, shuffle=False)"
   ]
  },
  {
   "cell_type": "code",
   "execution_count": 23,
   "metadata": {},
   "outputs": [
    {
     "data": {
      "text/html": [
       "<div>\n",
       "<style scoped>\n",
       "    .dataframe tbody tr th:only-of-type {\n",
       "        vertical-align: middle;\n",
       "    }\n",
       "\n",
       "    .dataframe tbody tr th {\n",
       "        vertical-align: top;\n",
       "    }\n",
       "\n",
       "    .dataframe thead th {\n",
       "        text-align: right;\n",
       "    }\n",
       "</style>\n",
       "<table border=\"1\" class=\"dataframe\">\n",
       "  <thead>\n",
       "    <tr style=\"text-align: right;\">\n",
       "      <th></th>\n",
       "      <th>feature</th>\n",
       "      <th>importance_gain</th>\n",
       "      <th>importance_split</th>\n",
       "    </tr>\n",
       "  </thead>\n",
       "  <tbody>\n",
       "    <tr>\n",
       "      <th>6</th>\n",
       "      <td>1_2</td>\n",
       "      <td>2364.026316</td>\n",
       "      <td>1478</td>\n",
       "    </tr>\n",
       "    <tr>\n",
       "      <th>25</th>\n",
       "      <td>8_1</td>\n",
       "      <td>1929.193008</td>\n",
       "      <td>816</td>\n",
       "    </tr>\n",
       "    <tr>\n",
       "      <th>2</th>\n",
       "      <td>EmpScore</td>\n",
       "      <td>1720.050075</td>\n",
       "      <td>9363</td>\n",
       "    </tr>\n",
       "    <tr>\n",
       "      <th>1</th>\n",
       "      <td>CurrentCTC</td>\n",
       "      <td>1100.179903</td>\n",
       "      <td>23051</td>\n",
       "    </tr>\n",
       "    <tr>\n",
       "      <th>5</th>\n",
       "      <td>1_1</td>\n",
       "      <td>717.346500</td>\n",
       "      <td>2191</td>\n",
       "    </tr>\n",
       "    <tr>\n",
       "      <th>0</th>\n",
       "      <td>YearsOfExperince</td>\n",
       "      <td>286.011130</td>\n",
       "      <td>18336</td>\n",
       "    </tr>\n",
       "    <tr>\n",
       "      <th>12</th>\n",
       "      <td>3_1</td>\n",
       "      <td>80.539538</td>\n",
       "      <td>4919</td>\n",
       "    </tr>\n",
       "    <tr>\n",
       "      <th>3</th>\n",
       "      <td>0_1</td>\n",
       "      <td>78.752251</td>\n",
       "      <td>5159</td>\n",
       "    </tr>\n",
       "    <tr>\n",
       "      <th>10</th>\n",
       "      <td>2_4</td>\n",
       "      <td>76.173456</td>\n",
       "      <td>4829</td>\n",
       "    </tr>\n",
       "    <tr>\n",
       "      <th>17</th>\n",
       "      <td>4_3</td>\n",
       "      <td>74.098155</td>\n",
       "      <td>4434</td>\n",
       "    </tr>\n",
       "    <tr>\n",
       "      <th>16</th>\n",
       "      <td>4_2</td>\n",
       "      <td>69.908598</td>\n",
       "      <td>4435</td>\n",
       "    </tr>\n",
       "    <tr>\n",
       "      <th>23</th>\n",
       "      <td>7_2</td>\n",
       "      <td>68.767084</td>\n",
       "      <td>4635</td>\n",
       "    </tr>\n",
       "    <tr>\n",
       "      <th>18</th>\n",
       "      <td>5_1</td>\n",
       "      <td>66.960526</td>\n",
       "      <td>4057</td>\n",
       "    </tr>\n",
       "    <tr>\n",
       "      <th>9</th>\n",
       "      <td>2_3</td>\n",
       "      <td>63.953568</td>\n",
       "      <td>4022</td>\n",
       "    </tr>\n",
       "    <tr>\n",
       "      <th>13</th>\n",
       "      <td>3_2</td>\n",
       "      <td>61.601606</td>\n",
       "      <td>3793</td>\n",
       "    </tr>\n",
       "    <tr>\n",
       "      <th>8</th>\n",
       "      <td>2_2</td>\n",
       "      <td>56.145781</td>\n",
       "      <td>3442</td>\n",
       "    </tr>\n",
       "    <tr>\n",
       "      <th>20</th>\n",
       "      <td>6_0</td>\n",
       "      <td>43.357027</td>\n",
       "      <td>2770</td>\n",
       "    </tr>\n",
       "    <tr>\n",
       "      <th>24</th>\n",
       "      <td>7_3</td>\n",
       "      <td>43.047549</td>\n",
       "      <td>2742</td>\n",
       "    </tr>\n",
       "    <tr>\n",
       "      <th>14</th>\n",
       "      <td>3_3</td>\n",
       "      <td>42.582235</td>\n",
       "      <td>2750</td>\n",
       "    </tr>\n",
       "    <tr>\n",
       "      <th>15</th>\n",
       "      <td>4_1</td>\n",
       "      <td>41.772530</td>\n",
       "      <td>2735</td>\n",
       "    </tr>\n",
       "    <tr>\n",
       "      <th>22</th>\n",
       "      <td>7_1</td>\n",
       "      <td>40.736010</td>\n",
       "      <td>2711</td>\n",
       "    </tr>\n",
       "    <tr>\n",
       "      <th>19</th>\n",
       "      <td>5_2</td>\n",
       "      <td>38.555350</td>\n",
       "      <td>2230</td>\n",
       "    </tr>\n",
       "    <tr>\n",
       "      <th>26</th>\n",
       "      <td>8_2</td>\n",
       "      <td>29.008967</td>\n",
       "      <td>1796</td>\n",
       "    </tr>\n",
       "    <tr>\n",
       "      <th>4</th>\n",
       "      <td>0_2</td>\n",
       "      <td>17.566856</td>\n",
       "      <td>1299</td>\n",
       "    </tr>\n",
       "    <tr>\n",
       "      <th>7</th>\n",
       "      <td>2_1</td>\n",
       "      <td>17.059530</td>\n",
       "      <td>1007</td>\n",
       "    </tr>\n",
       "    <tr>\n",
       "      <th>21</th>\n",
       "      <td>7_0</td>\n",
       "      <td>1.832727</td>\n",
       "      <td>250</td>\n",
       "    </tr>\n",
       "    <tr>\n",
       "      <th>11</th>\n",
       "      <td>3_0</td>\n",
       "      <td>0.314694</td>\n",
       "      <td>150</td>\n",
       "    </tr>\n",
       "  </tbody>\n",
       "</table>\n",
       "</div>"
      ],
      "text/plain": [
       "             feature  importance_gain  importance_split\n",
       "6                1_2      2364.026316              1478\n",
       "25               8_1      1929.193008               816\n",
       "2           EmpScore      1720.050075              9363\n",
       "1         CurrentCTC      1100.179903             23051\n",
       "5                1_1       717.346500              2191\n",
       "0   YearsOfExperince       286.011130             18336\n",
       "12               3_1        80.539538              4919\n",
       "3                0_1        78.752251              5159\n",
       "10               2_4        76.173456              4829\n",
       "17               4_3        74.098155              4434\n",
       "16               4_2        69.908598              4435\n",
       "23               7_2        68.767084              4635\n",
       "18               5_1        66.960526              4057\n",
       "9                2_3        63.953568              4022\n",
       "13               3_2        61.601606              3793\n",
       "8                2_2        56.145781              3442\n",
       "20               6_0        43.357027              2770\n",
       "24               7_3        43.047549              2742\n",
       "14               3_3        42.582235              2750\n",
       "15               4_1        41.772530              2735\n",
       "22               7_1        40.736010              2711\n",
       "19               5_2        38.555350              2230\n",
       "26               8_2        29.008967              1796\n",
       "4                0_2        17.566856              1299\n",
       "7                2_1        17.059530              1007\n",
       "21               7_0         1.832727               250\n",
       "11               3_0         0.314694               150"
      ]
     },
     "execution_count": 23,
     "metadata": {},
     "output_type": "execute_result"
    }
   ],
   "source": [
    "actual_imp_df.sort_values(by=['importance_gain'], ascending=False)"
   ]
  },
  {
   "cell_type": "code",
   "execution_count": 24,
   "metadata": {},
   "outputs": [
    {
     "name": "stderr",
     "output_type": "stream",
     "text": [
      "No handles with labels found to put in legend.\n"
     ]
    },
    {
     "data": {
      "image/png": "[encoded data removed]",
      "text/plain": [
       "<Figure size 432x288 with 1 Axes>"
      ]
     },
     "metadata": {
      "needs_background": "light"
     },
     "output_type": "display_data"
    }
   ],
   "source": [
    "## Creating a bar plot\n",
    "feature_imp=actual_imp_df.head(10).sort_values(by='importance_gain')\n",
    "feature_imp=actual_imp_df.reset_index()[['feature', 'importance_gain']].head(10)\n",
    "sns.barplot(y=feature_imp.feature,x=feature_imp.importance_gain,order=feature_imp.sort_values('importance_gain', ascending=False).feature)\n",
    "\n",
    "## Add labels to the graph\n",
    "plt.xlabel('Feature Importance Score')\n",
    "plt.ylabel('Features')\n",
    "plt.title(\"Visualizing Important Features\")\n",
    "plt.legend()\n",
    "plt.show()"
   ]
  },
  {
   "cell_type": "code",
   "execution_count": 25,
   "metadata": {},
   "outputs": [],
   "source": [
    "pred = model.predict(test)\n",
    "ytest = ytest.reset_index(drop=True)"
   ]
  },
  {
   "cell_type": "code",
   "execution_count": 26,
   "metadata": {},
   "outputs": [
    {
     "name": "stdout",
     "output_type": "stream",
     "text": [
      "r2 score: 0.437237011682828\n"
     ]
    }
   ],
   "source": [
    "coefficient_of_dermination = r2_score(pred, ytest)\n",
    "print('r2 score:', coefficient_of_dermination)"
   ]
  },
  {
   "cell_type": "code",
   "execution_count": 27,
   "metadata": {},
   "outputs": [
    {
     "name": "stdout",
     "output_type": "stream",
     "text": [
      "Adjusted r2 score: 0.43161146533534056\n"
     ]
    }
   ],
   "source": [
    "a = (1 - coefficient_of_dermination) * (len(ytest) - 1)\n",
    "b = len(ytest) - train.shape[1]  - 1\n",
    "print('Adjusted r2 score:', 1 - a /b)"
   ]
  },
  {
   "cell_type": "code",
   "execution_count": 28,
   "metadata": {},
   "outputs": [
    {
     "name": "stdout",
     "output_type": "stream",
     "text": [
      "Root Mean Squared Error: 0.08806507842469764\n"
     ]
    }
   ],
   "source": [
    "rmse = ((pred - ytest) ** 2).mean() ** .5\n",
    "print('Root Mean Squared Error:', rmse)"
   ]
  },
  {
   "cell_type": "code",
   "execution_count": 29,
   "metadata": {},
   "outputs": [],
   "source": [
    "## Create object that can calculate shap values\n",
    "explainer = shap.TreeExplainer(model)\n",
    "\n",
    "## Calculate Shap values\n",
    "shap_values = explainer.shap_values(test)"
   ]
  },
  {
   "cell_type": "code",
   "execution_count": 30,
   "metadata": {},
   "outputs": [
    {
     "data": {
      "image/png": "[encoded data removed]",
      "text/plain": [
       "<Figure size 576x684 with 2 Axes>"
      ]
     },
     "metadata": {
      "needs_background": "light"
     },
     "output_type": "display_data"
    }
   ],
   "source": [
    "shap.summary_plot(shap_values, test)"
   ]
  },
  {
   "cell_type": "code",
   "execution_count": 31,
   "metadata": {},
   "outputs": [
    {
     "data": {
      "text/plain": [
       "<matplotlib.axes._subplots.AxesSubplot at 0x20fad72ed00>"
      ]
     },
     "execution_count": 31,
     "metadata": {},
     "output_type": "execute_result"
    },
    {
     "data": {
      "image/png": "[encoded data removed]",
      "text/plain": [
       "<Figure size 1296x288 with 2 Axes>"
      ]
     },
     "metadata": {
      "needs_background": "light"
     },
     "output_type": "display_data"
    }
   ],
   "source": [
    "## residual plot\n",
    "error = pred - ytest\n",
    "f, ax = plt.subplots(nrows = 1, ncols = 2, figsize=(18, 4))\n",
    "sns.scatterplot(pred, ytest, ax=ax[0])\n",
    "sns.scatterplot(pred, error,  ax=ax[1])"
   ]
  },
  {
   "cell_type": "code",
   "execution_count": 32,
   "metadata": {},
   "outputs": [
    {
     "data": {
      "image/png": "[encoded data removed]",
      "text/plain": [
       "<Figure size 432x288 with 1 Axes>"
      ]
     },
     "metadata": {
      "needs_background": "light"
     },
     "output_type": "display_data"
    }
   ],
   "source": [
    "plt.hist(error, bins=25)\n",
    "plt.xlabel('Prediction Error')\n",
    "_ = plt.ylabel('Count')"
   ]
  },
  {
   "cell_type": "code",
   "execution_count": 33,
   "metadata": {},
   "outputs": [
    {
     "data": {
      "text/html": [
       "<div>\n",
       "<style scoped>\n",
       "    .dataframe tbody tr th:only-of-type {\n",
       "        vertical-align: middle;\n",
       "    }\n",
       "\n",
       "    .dataframe tbody tr th {\n",
       "        vertical-align: top;\n",
       "    }\n",
       "\n",
       "    .dataframe thead tr th {\n",
       "        text-align: left;\n",
       "    }\n",
       "</style>\n",
       "<table border=\"1\" class=\"dataframe\">\n",
       "  <thead>\n",
       "    <tr>\n",
       "      <th></th>\n",
       "      <th>actualprob</th>\n",
       "      <th colspan=\"3\" halign=\"left\">pred</th>\n",
       "    </tr>\n",
       "    <tr>\n",
       "      <th></th>\n",
       "      <th></th>\n",
       "      <th>min</th>\n",
       "      <th>mean</th>\n",
       "      <th>max</th>\n",
       "    </tr>\n",
       "  </thead>\n",
       "  <tbody>\n",
       "    <tr>\n",
       "      <th>0</th>\n",
       "      <td>(0.427, 0.479]</td>\n",
       "      <td>0.454581</td>\n",
       "      <td>0.550855</td>\n",
       "      <td>0.629450</td>\n",
       "    </tr>\n",
       "    <tr>\n",
       "      <th>1</th>\n",
       "      <td>(0.479, 0.529]</td>\n",
       "      <td>0.477544</td>\n",
       "      <td>0.559810</td>\n",
       "      <td>0.647611</td>\n",
       "    </tr>\n",
       "    <tr>\n",
       "      <th>2</th>\n",
       "      <td>(0.529, 0.58]</td>\n",
       "      <td>0.473234</td>\n",
       "      <td>0.553902</td>\n",
       "      <td>0.646040</td>\n",
       "    </tr>\n",
       "    <tr>\n",
       "      <th>3</th>\n",
       "      <td>(0.58, 0.631]</td>\n",
       "      <td>0.475466</td>\n",
       "      <td>0.559463</td>\n",
       "      <td>0.662041</td>\n",
       "    </tr>\n",
       "    <tr>\n",
       "      <th>4</th>\n",
       "      <td>(0.631, 0.682]</td>\n",
       "      <td>0.450546</td>\n",
       "      <td>0.703407</td>\n",
       "      <td>0.858717</td>\n",
       "    </tr>\n",
       "    <tr>\n",
       "      <th>5</th>\n",
       "      <td>(0.682, 0.733]</td>\n",
       "      <td>0.481769</td>\n",
       "      <td>0.751288</td>\n",
       "      <td>0.873679</td>\n",
       "    </tr>\n",
       "    <tr>\n",
       "      <th>6</th>\n",
       "      <td>(0.733, 0.784]</td>\n",
       "      <td>0.469347</td>\n",
       "      <td>0.780281</td>\n",
       "      <td>0.862901</td>\n",
       "    </tr>\n",
       "    <tr>\n",
       "      <th>7</th>\n",
       "      <td>(0.784, 0.835]</td>\n",
       "      <td>0.738072</td>\n",
       "      <td>0.806674</td>\n",
       "      <td>0.871609</td>\n",
       "    </tr>\n",
       "    <tr>\n",
       "      <th>8</th>\n",
       "      <td>(0.835, 0.886]</td>\n",
       "      <td>0.746343</td>\n",
       "      <td>0.826642</td>\n",
       "      <td>0.924578</td>\n",
       "    </tr>\n",
       "    <tr>\n",
       "      <th>9</th>\n",
       "      <td>(0.886, 0.937]</td>\n",
       "      <td>0.737083</td>\n",
       "      <td>0.842326</td>\n",
       "      <td>0.924020</td>\n",
       "    </tr>\n",
       "  </tbody>\n",
       "</table>\n",
       "</div>"
      ],
      "text/plain": [
       "       actualprob      pred                    \n",
       "                        min      mean       max\n",
       "0  (0.427, 0.479]  0.454581  0.550855  0.629450\n",
       "1  (0.479, 0.529]  0.477544  0.559810  0.647611\n",
       "2   (0.529, 0.58]  0.473234  0.553902  0.646040\n",
       "3   (0.58, 0.631]  0.475466  0.559463  0.662041\n",
       "4  (0.631, 0.682]  0.450546  0.703407  0.858717\n",
       "5  (0.682, 0.733]  0.481769  0.751288  0.873679\n",
       "6  (0.733, 0.784]  0.469347  0.780281  0.862901\n",
       "7  (0.784, 0.835]  0.738072  0.806674  0.871609\n",
       "8  (0.835, 0.886]  0.746343  0.826642  0.924578\n",
       "9  (0.886, 0.937]  0.737083  0.842326  0.924020"
      ]
     },
     "execution_count": 33,
     "metadata": {},
     "output_type": "execute_result"
    }
   ],
   "source": [
    "out = pd.DataFrame()\n",
    "out['pred'] = pred\n",
    "out['actual'] = ytest\n",
    "out['actualprob'] = pd.cut(out['actual'], 10)\n",
    "df = out[['actualprob','pred']].groupby(['actualprob']).agg(['min', 'mean', 'max']).reset_index()\n",
    "df"
   ]
  },
  {
   "cell_type": "code",
   "execution_count": 34,
   "metadata": {},
   "outputs": [
    {
     "data": {
      "text/plain": [
       "['scaler.pkl']"
      ]
     },
     "execution_count": 34,
     "metadata": {},
     "output_type": "execute_result"
    }
   ],
   "source": [
    "X1.to_csv('X1.csv', index=False)\n",
    "Y1.to_csv('Y1.csv', index=False)\n",
    "joblib.dump(dict_bf, 'dictfactor')\n",
    "joblib.dump(enc, 'enc.pkl')\n",
    "joblib.dump(model, 'model.pkl')\n",
    "joblib.dump(scaler, 'scaler.pkl')"
   ]
  },
  {
   "cell_type": "code",
   "execution_count": 35,
   "metadata": {},
   "outputs": [],
   "source": [
    "## Gaussian Mixture (Gmm).(Try)\n",
    "## The basics of the following process are:\n",
    "##  * Split the data into 2 based on the Gmm distribution output.\n",
    "##  * Train a classification model to predict which distribution it belongs to.\n",
    "##  * Train 2 regression models on each of the distributions."
   ]
  },
  {
   "cell_type": "code",
   "execution_count": 36,
   "metadata": {},
   "outputs": [
    {
     "data": {
      "image/png": "[encoded data removed]",
      "text/plain": [
       "<Figure size 864x288 with 1 Axes>"
      ]
     },
     "metadata": {
      "needs_background": "light"
     },
     "output_type": "display_data"
    }
   ],
   "source": [
    "## apply gaussian mix / assign bins back to training\n",
    "gmm = GaussianMixture(n_components=2, random_state=42)\n",
    "gmm.fit(trainfinal['FitmentPercent'].values.reshape(-1, 1))\n",
    "trainfinal['target_gmm'] = gmm.predict(trainfinal['FitmentPercent'].values.reshape(-1, 1))\n",
    "\n",
    "## masks for each gmm bin\n",
    "mask_gmm_0 = trainfinal['target_gmm'] == 0\n",
    "mask_gmm_1 = trainfinal['target_gmm'] == 1\n",
    "\n",
    "## plot\n",
    "fig, ax = plt.subplots(figsize=(12, 4))\n",
    "sns.kdeplot(data=trainfinal.loc[mask_gmm_0, 'FitmentPercent'], label='gmm bin 0')\n",
    "sns.kdeplot(data=trainfinal.loc[mask_gmm_1, 'FitmentPercent'], label='gmm bin 1')\n",
    "plt.show()"
   ]
  },
  {
   "cell_type": "code",
   "execution_count": 37,
   "metadata": {},
   "outputs": [
    {
     "data": {
      "text/plain": [
       "((10916, 27), (2729, 27))"
      ]
     },
     "execution_count": 37,
     "metadata": {},
     "output_type": "execute_result"
    }
   ],
   "source": [
    "## split training data / reset indexes\n",
    "Y = trainfinal['target_gmm']\n",
    "\n",
    "train, test, ytrain, ytest = train_test_split(X, Y, test_size = 0.2, random_state = 42)\n",
    "train.shape, test.shape"
   ]
  },
  {
   "cell_type": "code",
   "execution_count": 38,
   "metadata": {},
   "outputs": [
    {
     "data": {
      "text/plain": [
       "LGBMClassifier(bagging_freq=1, classweight='balanced', learning_rate=0.01,\n",
       "               max_bin=120, max_depth=40, n_estimators=600, n_jobs=4,\n",
       "               num_leaves=200, objective='binary')"
      ]
     },
     "execution_count": 38,
     "metadata": {},
     "output_type": "execute_result"
    }
   ],
   "source": [
    "clf = lgb.LGBMClassifier(objective = 'binary',\n",
    "        max_bin = 120,\n",
    "        num_leaves = 200,\n",
    "        max_depth = 40,\n",
    "        bagging_freq = 1,\n",
    "        n_jobs = 4,\n",
    "        learning_rate = 0.01,\n",
    "        classweight = 'balanced',\n",
    "        n_estimators =  600)\n",
    "clf.fit(train,ytrain)"
   ]
  },
  {
   "cell_type": "code",
   "execution_count": 39,
   "metadata": {},
   "outputs": [],
   "source": [
    "ypred = clf.predict(test)"
   ]
  },
  {
   "cell_type": "code",
   "execution_count": 40,
   "metadata": {},
   "outputs": [
    {
     "name": "stdout",
     "output_type": "stream",
     "text": [
      "              precision    recall  f1-score   support\n",
      "\n",
      "           0       0.87      0.96      0.91      1931\n",
      "           1       0.86      0.66      0.75       798\n",
      "\n",
      "    accuracy                           0.87      2729\n",
      "   macro avg       0.87      0.81      0.83      2729\n",
      "weighted avg       0.87      0.87      0.86      2729\n",
      "\n"
     ]
    }
   ],
   "source": [
    "print(classification_report(ytest, ypred))"
   ]
  },
  {
   "cell_type": "code",
   "execution_count": 41,
   "metadata": {},
   "outputs": [],
   "source": [
    "lgbm_gmm_reg_0 = lgb.LGBMRegressor(boosting_type = 'gbdt',\n",
    "                 objective = 'regression',\n",
    "                 metric = 'rmse',\n",
    "                 max_depth = 20, \n",
    "                 learning_rate = 0.01,\n",
    "                 num_leaves = 200,    \n",
    "                 verbose = 0,\n",
    "                 n_estimators = 600,\n",
    "                 max_bin = 90)"
   ]
  },
  {
   "cell_type": "code",
   "execution_count": 42,
   "metadata": {},
   "outputs": [
    {
     "data": {
      "text/plain": [
       "((7661, 27), (1916, 27))"
      ]
     },
     "execution_count": 42,
     "metadata": {},
     "output_type": "execute_result"
    }
   ],
   "source": [
    "X0 = trainfinal[trainfinal['target_gmm'] == 0][selected_features_rfe]\n",
    "Y0 = trainfinal[trainfinal['target_gmm'] == 0]['FitmentPercent']\n",
    "\n",
    "train, test, ytrain, ytest = train_test_split(X0, Y0, test_size = 0.2, random_state = 42)\n",
    "train.shape, test.shape"
   ]
  },
  {
   "cell_type": "code",
   "execution_count": 43,
   "metadata": {},
   "outputs": [],
   "source": [
    "lgbm_gmm_reg_0.fit(train,ytrain)\n",
    "pred0 = lgbm_gmm_reg_0.predict(test)"
   ]
  },
  {
   "cell_type": "code",
   "execution_count": 44,
   "metadata": {},
   "outputs": [
    {
     "name": "stdout",
     "output_type": "stream",
     "text": [
      "r2 score: -1.5873270034489968\n"
     ]
    }
   ],
   "source": [
    "coefficient_of_dermination = r2_score(pred0, ytest)\n",
    "print('r2 score:', coefficient_of_dermination)"
   ]
  },
  {
   "cell_type": "code",
   "execution_count": 45,
   "metadata": {},
   "outputs": [
    {
     "name": "stdout",
     "output_type": "stream",
     "text": [
      "0.06584330483490304\n"
     ]
    }
   ],
   "source": [
    "rmse = ((pred0 - ytest) ** 2).mean() ** .5\n",
    "print(rmse)"
   ]
  },
  {
   "cell_type": "code",
   "execution_count": 46,
   "metadata": {},
   "outputs": [
    {
     "data": {
      "text/plain": [
       "<matplotlib.axes._subplots.AxesSubplot at 0x20fad6fefa0>"
      ]
     },
     "execution_count": 46,
     "metadata": {},
     "output_type": "execute_result"
    },
    {
     "data": {
      "image/png": "[encoded data removed]",
      "text/plain": [
       "<Figure size 432x288 with 1 Axes>"
      ]
     },
     "metadata": {
      "needs_background": "light"
     },
     "output_type": "display_data"
    }
   ],
   "source": [
    "sns.distplot(pred0, color = 'red')\n",
    "sns.distplot(ytest, color = 'blue')"
   ]
  },
  {
   "cell_type": "code",
   "execution_count": 47,
   "metadata": {},
   "outputs": [
    {
     "data": {
      "text/html": [
       "<div>\n",
       "<style scoped>\n",
       "    .dataframe tbody tr th:only-of-type {\n",
       "        vertical-align: middle;\n",
       "    }\n",
       "\n",
       "    .dataframe tbody tr th {\n",
       "        vertical-align: top;\n",
       "    }\n",
       "\n",
       "    .dataframe thead tr th {\n",
       "        text-align: left;\n",
       "    }\n",
       "</style>\n",
       "<table border=\"1\" class=\"dataframe\">\n",
       "  <thead>\n",
       "    <tr>\n",
       "      <th></th>\n",
       "      <th>actualprob</th>\n",
       "      <th colspan=\"3\" halign=\"left\">pred</th>\n",
       "    </tr>\n",
       "    <tr>\n",
       "      <th></th>\n",
       "      <th></th>\n",
       "      <th>min</th>\n",
       "      <th>mean</th>\n",
       "      <th>max</th>\n",
       "    </tr>\n",
       "  </thead>\n",
       "  <tbody>\n",
       "    <tr>\n",
       "      <th>0</th>\n",
       "      <td>(0.706, 0.729]</td>\n",
       "      <td>0.728923</td>\n",
       "      <td>0.830876</td>\n",
       "      <td>0.900835</td>\n",
       "    </tr>\n",
       "    <tr>\n",
       "      <th>1</th>\n",
       "      <td>(0.729, 0.752]</td>\n",
       "      <td>0.728646</td>\n",
       "      <td>0.831855</td>\n",
       "      <td>0.903999</td>\n",
       "    </tr>\n",
       "    <tr>\n",
       "      <th>2</th>\n",
       "      <td>(0.752, 0.775]</td>\n",
       "      <td>0.763964</td>\n",
       "      <td>0.856102</td>\n",
       "      <td>0.910193</td>\n",
       "    </tr>\n",
       "    <tr>\n",
       "      <th>3</th>\n",
       "      <td>(0.775, 0.798]</td>\n",
       "      <td>0.727894</td>\n",
       "      <td>0.827878</td>\n",
       "      <td>0.907451</td>\n",
       "    </tr>\n",
       "    <tr>\n",
       "      <th>4</th>\n",
       "      <td>(0.798, 0.821]</td>\n",
       "      <td>0.783098</td>\n",
       "      <td>0.830633</td>\n",
       "      <td>0.908815</td>\n",
       "    </tr>\n",
       "    <tr>\n",
       "      <th>5</th>\n",
       "      <td>(0.821, 0.844]</td>\n",
       "      <td>0.725370</td>\n",
       "      <td>0.821962</td>\n",
       "      <td>0.913897</td>\n",
       "    </tr>\n",
       "    <tr>\n",
       "      <th>6</th>\n",
       "      <td>(0.844, 0.868]</td>\n",
       "      <td>0.784531</td>\n",
       "      <td>0.840380</td>\n",
       "      <td>0.900432</td>\n",
       "    </tr>\n",
       "    <tr>\n",
       "      <th>7</th>\n",
       "      <td>(0.868, 0.891]</td>\n",
       "      <td>0.736898</td>\n",
       "      <td>0.812032</td>\n",
       "      <td>0.863383</td>\n",
       "    </tr>\n",
       "    <tr>\n",
       "      <th>8</th>\n",
       "      <td>(0.891, 0.914]</td>\n",
       "      <td>0.784584</td>\n",
       "      <td>0.831788</td>\n",
       "      <td>0.910729</td>\n",
       "    </tr>\n",
       "    <tr>\n",
       "      <th>9</th>\n",
       "      <td>(0.914, 0.937]</td>\n",
       "      <td>0.725602</td>\n",
       "      <td>0.816980</td>\n",
       "      <td>0.905374</td>\n",
       "    </tr>\n",
       "  </tbody>\n",
       "</table>\n",
       "</div>"
      ],
      "text/plain": [
       "       actualprob      pred                    \n",
       "                        min      mean       max\n",
       "0  (0.706, 0.729]  0.728923  0.830876  0.900835\n",
       "1  (0.729, 0.752]  0.728646  0.831855  0.903999\n",
       "2  (0.752, 0.775]  0.763964  0.856102  0.910193\n",
       "3  (0.775, 0.798]  0.727894  0.827878  0.907451\n",
       "4  (0.798, 0.821]  0.783098  0.830633  0.908815\n",
       "5  (0.821, 0.844]  0.725370  0.821962  0.913897\n",
       "6  (0.844, 0.868]  0.784531  0.840380  0.900432\n",
       "7  (0.868, 0.891]  0.736898  0.812032  0.863383\n",
       "8  (0.891, 0.914]  0.784584  0.831788  0.910729\n",
       "9  (0.914, 0.937]  0.725602  0.816980  0.905374"
      ]
     },
     "execution_count": 47,
     "metadata": {},
     "output_type": "execute_result"
    }
   ],
   "source": [
    "out = pd.DataFrame()\n",
    "out['pred'] = pred0\n",
    "out['ytest'] = ytest\n",
    "out['actualprob'] = pd.cut(out['ytest'], 10)\n",
    "df = out[['actualprob','pred']].groupby(['actualprob']).agg(['min', 'mean', 'max']).reset_index()\n",
    "df"
   ]
  },
  {
   "cell_type": "code",
   "execution_count": 48,
   "metadata": {},
   "outputs": [],
   "source": [
    "lgbm_gmm_reg_1 = lgb.LGBMRegressor(learning_rate=0.01, max_depth=5, n_estimators=400,\n",
    "              subsample=0.6)"
   ]
  },
  {
   "cell_type": "code",
   "execution_count": 49,
   "metadata": {},
   "outputs": [
    {
     "data": {
      "text/plain": [
       "((3254, 27), (814, 27))"
      ]
     },
     "execution_count": 49,
     "metadata": {},
     "output_type": "execute_result"
    }
   ],
   "source": [
    "X1 = trainfinal[trainfinal['target_gmm'] == 1][selected_features_rfe]\n",
    "Y1 = trainfinal[trainfinal['target_gmm'] == 1]['FitmentPercent']\n",
    "\n",
    "train, test, ytrain, ytest = train_test_split(X1, Y1, test_size = 0.2, random_state = 42)\n",
    "train.shape, test.shape"
   ]
  },
  {
   "cell_type": "code",
   "execution_count": 50,
   "metadata": {},
   "outputs": [],
   "source": [
    "lgbm_gmm_reg_1.fit(train,ytrain)\n",
    "pred1 = lgbm_gmm_reg_1.predict(test)"
   ]
  },
  {
   "cell_type": "code",
   "execution_count": 51,
   "metadata": {},
   "outputs": [
    {
     "name": "stdout",
     "output_type": "stream",
     "text": [
      "r2 score: -0.2386557683507997\n"
     ]
    }
   ],
   "source": [
    "coefficient_of_dermination = r2_score(pred1, ytest)\n",
    "print('r2 score:', coefficient_of_dermination)"
   ]
  },
  {
   "cell_type": "code",
   "execution_count": 52,
   "metadata": {},
   "outputs": [
    {
     "name": "stdout",
     "output_type": "stream",
     "text": [
      "0.07718465129674923\n"
     ]
    }
   ],
   "source": [
    "rmse = ((pred1 - ytest) ** 2).mean() ** .5\n",
    "print(rmse)"
   ]
  },
  {
   "cell_type": "code",
   "execution_count": 53,
   "metadata": {},
   "outputs": [
    {
     "data": {
      "text/plain": [
       "<matplotlib.axes._subplots.AxesSubplot at 0x20fad987e50>"
      ]
     },
     "execution_count": 53,
     "metadata": {},
     "output_type": "execute_result"
    },
    {
     "data": {
      "image/png": "[encoded data removed]",
      "text/plain": [
       "<Figure size 432x288 with 1 Axes>"
      ]
     },
     "metadata": {
      "needs_background": "light"
     },
     "output_type": "display_data"
    }
   ],
   "source": [
    "sns.distplot(pred1, color = 'red')\n",
    "sns.distplot(ytest, color = 'blue')"
   ]
  },
  {
   "cell_type": "code",
   "execution_count": 54,
   "metadata": {},
   "outputs": [
    {
     "data": {
      "text/html": [
       "<div>\n",
       "<style scoped>\n",
       "    .dataframe tbody tr th:only-of-type {\n",
       "        vertical-align: middle;\n",
       "    }\n",
       "\n",
       "    .dataframe tbody tr th {\n",
       "        vertical-align: top;\n",
       "    }\n",
       "\n",
       "    .dataframe thead tr th {\n",
       "        text-align: left;\n",
       "    }\n",
       "</style>\n",
       "<table border=\"1\" class=\"dataframe\">\n",
       "  <thead>\n",
       "    <tr>\n",
       "      <th></th>\n",
       "      <th>actualprob</th>\n",
       "      <th colspan=\"3\" halign=\"left\">pred</th>\n",
       "    </tr>\n",
       "    <tr>\n",
       "      <th></th>\n",
       "      <th></th>\n",
       "      <th>min</th>\n",
       "      <th>mean</th>\n",
       "      <th>max</th>\n",
       "    </tr>\n",
       "  </thead>\n",
       "  <tbody>\n",
       "    <tr>\n",
       "      <th>0</th>\n",
       "      <td>(0.427, 0.455]</td>\n",
       "      <td>0.515542</td>\n",
       "      <td>0.558520</td>\n",
       "      <td>0.680789</td>\n",
       "    </tr>\n",
       "    <tr>\n",
       "      <th>1</th>\n",
       "      <td>(0.455, 0.483]</td>\n",
       "      <td>0.521361</td>\n",
       "      <td>0.527666</td>\n",
       "      <td>0.533430</td>\n",
       "    </tr>\n",
       "    <tr>\n",
       "      <th>2</th>\n",
       "      <td>(0.483, 0.51]</td>\n",
       "      <td>0.513816</td>\n",
       "      <td>0.597507</td>\n",
       "      <td>0.678627</td>\n",
       "    </tr>\n",
       "    <tr>\n",
       "      <th>3</th>\n",
       "      <td>(0.51, 0.538]</td>\n",
       "      <td>0.505476</td>\n",
       "      <td>0.520317</td>\n",
       "      <td>0.535159</td>\n",
       "    </tr>\n",
       "    <tr>\n",
       "      <th>4</th>\n",
       "      <td>(0.538, 0.566]</td>\n",
       "      <td>0.522794</td>\n",
       "      <td>0.522794</td>\n",
       "      <td>0.522794</td>\n",
       "    </tr>\n",
       "    <tr>\n",
       "      <th>5</th>\n",
       "      <td>(0.566, 0.593]</td>\n",
       "      <td>0.519974</td>\n",
       "      <td>0.591367</td>\n",
       "      <td>0.684376</td>\n",
       "    </tr>\n",
       "    <tr>\n",
       "      <th>6</th>\n",
       "      <td>(0.593, 0.621]</td>\n",
       "      <td>0.533859</td>\n",
       "      <td>0.545832</td>\n",
       "      <td>0.557805</td>\n",
       "    </tr>\n",
       "    <tr>\n",
       "      <th>7</th>\n",
       "      <td>(0.621, 0.648]</td>\n",
       "      <td>0.518675</td>\n",
       "      <td>0.596584</td>\n",
       "      <td>0.684577</td>\n",
       "    </tr>\n",
       "    <tr>\n",
       "      <th>8</th>\n",
       "      <td>(0.648, 0.676]</td>\n",
       "      <td>0.519209</td>\n",
       "      <td>0.591600</td>\n",
       "      <td>0.686129</td>\n",
       "    </tr>\n",
       "    <tr>\n",
       "      <th>9</th>\n",
       "      <td>(0.676, 0.704]</td>\n",
       "      <td>0.507348</td>\n",
       "      <td>0.575559</td>\n",
       "      <td>0.684003</td>\n",
       "    </tr>\n",
       "  </tbody>\n",
       "</table>\n",
       "</div>"
      ],
      "text/plain": [
       "       actualprob      pred                    \n",
       "                        min      mean       max\n",
       "0  (0.427, 0.455]  0.515542  0.558520  0.680789\n",
       "1  (0.455, 0.483]  0.521361  0.527666  0.533430\n",
       "2   (0.483, 0.51]  0.513816  0.597507  0.678627\n",
       "3   (0.51, 0.538]  0.505476  0.520317  0.535159\n",
       "4  (0.538, 0.566]  0.522794  0.522794  0.522794\n",
       "5  (0.566, 0.593]  0.519974  0.591367  0.684376\n",
       "6  (0.593, 0.621]  0.533859  0.545832  0.557805\n",
       "7  (0.621, 0.648]  0.518675  0.596584  0.684577\n",
       "8  (0.648, 0.676]  0.519209  0.591600  0.686129\n",
       "9  (0.676, 0.704]  0.507348  0.575559  0.684003"
      ]
     },
     "execution_count": 54,
     "metadata": {},
     "output_type": "execute_result"
    }
   ],
   "source": [
    "out = pd.DataFrame()\n",
    "out['pred'] = pred1\n",
    "out['ytest'] = ytest\n",
    "out['actualprob'] = pd.cut(out['ytest'], 10)\n",
    "df = out[['actualprob','pred']].groupby(['actualprob']).agg(['min', 'mean', 'max']).reset_index()\n",
    "df"
   ]
  },
  {
   "cell_type": "code",
   "execution_count": 55,
   "metadata": {},
   "outputs": [],
   "source": [
    "dfbin = enc.transform(testfinal[categorical].values)\n",
    "testfinal = pd.concat([testfinal, dfbin], axis = 1)"
   ]
  },
  {
   "cell_type": "code",
   "execution_count": 56,
   "metadata": {},
   "outputs": [],
   "source": [
    "X = testfinal[['YearsOfExperince', 'CurrentCTC', 'EmpScore',\n",
    "              '0_1', '0_2', '1_1', '1_2', '2_1', '2_2', '2_3',\n",
    "               '2_4', '3_0', '3_1', '3_2', '3_3', '4_1', '4_2',\n",
    "               '4_3', '5_1', '5_2', '6_0', '7_0', '7_1', '7_2',\n",
    "               '7_3', '8_1', '8_2']]\n",
    "\n",
    "X['lbl'] = clf.predict(X)"
   ]
  },
  {
   "cell_type": "code",
   "execution_count": 57,
   "metadata": {},
   "outputs": [],
   "source": [
    "X11 = X[X['lbl'] == 0][selected_features_rfe]\n",
    "X12 = X[X['lbl'] == 1][selected_features_rfe]"
   ]
  },
  {
   "cell_type": "code",
   "execution_count": 58,
   "metadata": {},
   "outputs": [],
   "source": [
    "X11['pred'] = lgbm_gmm_reg_0.predict(X11)\n",
    "X12['pred'] = lgbm_gmm_reg_1.predict(X12)"
   ]
  },
  {
   "cell_type": "code",
   "execution_count": 59,
   "metadata": {},
   "outputs": [],
   "source": [
    "final = X11.append(X12)\n",
    "testfinal['FitmentPercent'] = final['pred'] \n",
    "testfinal.to_csv('gmm.csv', index=False)"
   ]
  },
  {
   "cell_type": "code",
   "execution_count": 60,
   "metadata": {},
   "outputs": [],
   "source": [
    "## Making a prediction using the classifier and the 2 Gmm regressors gives similar prediction"
   ]
  },
  {
   "cell_type": "code",
   "execution_count": null,
   "metadata": {},
   "outputs": [],
   "source": []
  }
 ],
 "metadata": {
  "kernelspec": {
   "display_name": "Python 3",
   "language": "python",
   "name": "python3"
  },
  "language_info": {
   "codemirror_mode": {
    "name": "ipython",
    "version": 3
   },
   "file_extension": ".py",
   "mimetype": "text/x-python",
   "name": "python",
   "nbconvert_exporter": "python",
   "pygments_lexer": "ipython3",
   "version": "3.8.1"
  }
 },
 "nbformat": 4,
 "nbformat_minor": 4
}
